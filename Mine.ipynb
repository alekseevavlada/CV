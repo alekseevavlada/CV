{
 "cells": [
  {
   "cell_type": "code",
   "execution_count": 5,
   "metadata": {},
   "outputs": [
    {
     "ename": "ImportError",
     "evalue": "cannot import name 'imread' from 'scipy.misc' (/Users/admin/anaconda3/lib/python3.10/site-packages/scipy/misc/__init__.py)",
     "output_type": "error",
     "traceback": [
      "\u001b[0;31m---------------------------------------------------------------------------\u001b[0m",
      "\u001b[0;31mImportError\u001b[0m                               Traceback (most recent call last)",
      "Cell \u001b[0;32mIn[5], line 3\u001b[0m\n\u001b[1;32m      1\u001b[0m \u001b[38;5;28;01mimport\u001b[39;00m \u001b[38;5;21;01msys\u001b[39;00m\n\u001b[0;32m----> 3\u001b[0m \u001b[38;5;28;01mfrom\u001b[39;00m \u001b[38;5;21;01mscipy\u001b[39;00m\u001b[38;5;21;01m.\u001b[39;00m\u001b[38;5;21;01mmisc\u001b[39;00m \u001b[38;5;28;01mimport\u001b[39;00m imread\n\u001b[1;32m      4\u001b[0m \u001b[38;5;28;01mfrom\u001b[39;00m \u001b[38;5;21;01mscipy\u001b[39;00m\u001b[38;5;21;01m.\u001b[39;00m\u001b[38;5;21;01mlinalg\u001b[39;00m \u001b[38;5;28;01mimport\u001b[39;00m norm\n\u001b[1;32m      5\u001b[0m \u001b[38;5;28;01mfrom\u001b[39;00m \u001b[38;5;21;01mscipy\u001b[39;00m \u001b[38;5;28;01mimport\u001b[39;00m \u001b[38;5;28msum\u001b[39m, average\n",
      "\u001b[0;31mImportError\u001b[0m: cannot import name 'imread' from 'scipy.misc' (/Users/admin/anaconda3/lib/python3.10/site-packages/scipy/misc/__init__.py)"
     ]
    }
   ],
   "source": [
    "import sys\n",
    "\n",
    "from scipy.misc import imread\n",
    "from scipy.linalg import norm\n",
    "from scipy import sum, average\n",
    "\n",
    "def main():\n",
    "    file1, file2 = sys.argv[1:1+2]\n",
    "    # Изображение как двухмерный массив (преобразование в оттенки серого)\n",
    "    img1 = to_grayscale(imread(file1).astype(float))\n",
    "    img2 = to_grayscale(imread(file2).astype(float))\n",
    "    # Сравним\n",
    "    n_m, n_0 = compare_images(img1, img2)\n",
    "    #print \"Manhattan norm:\", n_m, \"/ per pixel:\", n_m/img1.size\n",
    "    #print \"Zero norm:\", n_0, \"/ per pixel:\", n_0*1.0/img1.size\n",
    "\n",
    "def compare_images(img1, img2):\n",
    "    # Нормализируем, чтобы компенсировать разность в экспозиции \n",
    "    img1 = normalize(img1)\n",
    "    img2 = normalize(img2)\n",
    "    # Вычислим различие и ее нормы\n",
    "    diff = img1 - img2  # Поэлементно вычислим \n",
    "    m_norm = sum(abs(diff))  # Манхэттенская норма\n",
    "    z_norm = norm(diff.ravel(), 0)  # Нулевая норма\n",
    "    return (m_norm, z_norm)\n",
    "\n",
    "def normalize(arr):\n",
    "    rng = arr.max()-arr.min()\n",
    "    if rng == 0:\n",
    "        rng = 1\n",
    "    amin = arr.min()\n",
    "    return (arr-amin)*255/rng\n",
    "\n",
    "def to_grayscale(arr):\n",
    "    \"Переведите в черно-белый оттенок (двухмерный массив).\"\n",
    "    if len(arr.shape) == 3:\n",
    "        return average(arr, -1)  # Среднее по последней оси\n",
    "    else:\n",
    "        return arr\n",
    "\n",
    "def normalize(arr):\n",
    "    rng = arr.max()-arr.min()\n",
    "    amin = arr.min()\n",
    "    return (arr-amin)*255/rng\n",
    "\n",
    "if __name__ == \"__main__\":\n",
    "    main()"
   ]
  }
 ],
 "metadata": {
  "kernelspec": {
   "display_name": "base",
   "language": "python",
   "name": "python3"
  },
  "language_info": {
   "codemirror_mode": {
    "name": "ipython",
    "version": 3
   },
   "file_extension": ".py",
   "mimetype": "text/x-python",
   "name": "python",
   "nbconvert_exporter": "python",
   "pygments_lexer": "ipython3",
   "version": "3.10.9"
  }
 },
 "nbformat": 4,
 "nbformat_minor": 2
}
